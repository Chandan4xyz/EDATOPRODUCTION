{
 "cells": [
  {
   "cell_type": "code",
   "execution_count": 7,
   "id": "1379b342",
   "metadata": {},
   "outputs": [],
   "source": [
    "# choosing a random sample from test data\n",
    "\n",
    "import pandas as pd\n",
    "\n",
    "DATA_PATH = './scripts/data/'\n",
    "test_data = pd.read_csv(DATA_PATH+'test_cleaned.csv.gz')\n",
    "\n",
    "# choose a sample row\n",
    "# this should have all the columns except the 'id' column which was note used for training\n",
    "sample = test_data[test_data.columns[~test_data.columns.isin(['id'])]].sample(n=1, random_state=1024).to_json()"
   ]
  },
  {
   "cell_type": "code",
   "execution_count": null,
   "id": "f065f54f",
   "metadata": {},
   "outputs": [],
   "source": [
    "import requests\n",
    "\n",
    "api_url = \"http://localhost:9000/predict\"\n",
    "\n",
    "api_response = requests.post(url=api_url, json=sample).json()\n",
    "print(api_response)"
   ]
  },
  {
   "cell_type": "code",
   "execution_count": null,
   "id": "34e72f97",
   "metadata": {},
   "outputs": [],
   "source": []
  }
 ],
 "metadata": {
  "kernelspec": {
   "display_name": "Python 3 (ipykernel)",
   "language": "python",
   "name": "python3"
  },
  "language_info": {
   "codemirror_mode": {
    "name": "ipython",
    "version": 3
   },
   "file_extension": ".py",
   "mimetype": "text/x-python",
   "name": "python",
   "nbconvert_exporter": "python",
   "pygments_lexer": "ipython3",
   "version": "3.9.7"
  }
 },
 "nbformat": 4,
 "nbformat_minor": 5
}
