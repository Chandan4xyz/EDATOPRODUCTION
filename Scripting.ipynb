{
 "cells": [
  {
   "cell_type": "code",
   "execution_count": 1,
   "id": "298f8682",
   "metadata": {},
   "outputs": [
    {
     "name": "stdout",
     "output_type": "stream",
     "text": [
      "2022.11.18-140653-GSZT\n"
     ]
    }
   ],
   "source": [
    "import string\n",
    "import random\n",
    "from datetime import datetime\n",
    "\n",
    "unique_run_identifier = ''.join([\n",
    "    datetime.now().strftime('%Y.%m.%d-%H%M%S-'),\n",
    "    ''.join(random.choices(string.ascii_uppercase + string.digits, k=4))\n",
    "])\n",
    "\n",
    "print(unique_run_identifier)"
   ]
  },
  {
   "cell_type": "code",
   "execution_count": null,
   "id": "c0bff01e",
   "metadata": {},
   "outputs": [],
   "source": []
  }
 ],
 "metadata": {
  "kernelspec": {
   "display_name": "Python 3 (ipykernel)",
   "language": "python",
   "name": "python3"
  },
  "language_info": {
   "codemirror_mode": {
    "name": "ipython",
    "version": 3
   },
   "file_extension": ".py",
   "mimetype": "text/x-python",
   "name": "python",
   "nbconvert_exporter": "python",
   "pygments_lexer": "ipython3",
   "version": "3.9.7"
  }
 },
 "nbformat": 4,
 "nbformat_minor": 5
}
