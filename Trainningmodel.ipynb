{
 "cells": [
  {
   "cell_type": "code",
   "execution_count": 1,
   "id": "fb50bfb2",
   "metadata": {},
   "outputs": [],
   "source": [
    "# required library imports & initial settings\n",
    "\n",
    "import numpy as np\n",
    "import pandas as pd\n",
    "import seaborn as sns\n",
    "import pickle\n",
    "\n",
    "from sklearn import set_config\n",
    "from sklearn.model_selection import StratifiedKFold\n",
    "\n",
    "from sklearn.preprocessing import OneHotEncoder, OrdinalEncoder, MinMaxScaler, StandardScaler\n",
    "from sklearn.impute import SimpleImputer\n",
    "\n",
    "from sklearn.compose import ColumnTransformer\n",
    "from sklearn.pipeline import Pipeline\n",
    "\n",
    "from sklearn.linear_model import HuberRegressor\n",
    "from sklearn.ensemble import RandomForestRegressor\n",
    "import xgboost as xgb\n",
    "\n",
    "from sklearn.metrics import mean_absolute_error\n",
    "\n",
    "from warnings import simplefilter\n",
    "from sklearn.exceptions import ConvergenceWarning\n",
    "\n",
    "\n",
    "# set seed value for reproducibility\n",
    "RANDOM_SEED = 1024"
   ]
  },
  {
   "cell_type": "code",
   "execution_count": 2,
   "id": "e8a402ca",
   "metadata": {},
   "outputs": [
    {
     "data": {
      "text/html": [
       "<div>\n",
       "<style scoped>\n",
       "    .dataframe tbody tr th:only-of-type {\n",
       "        vertical-align: middle;\n",
       "    }\n",
       "\n",
       "    .dataframe tbody tr th {\n",
       "        vertical-align: top;\n",
       "    }\n",
       "\n",
       "    .dataframe thead th {\n",
       "        text-align: right;\n",
       "    }\n",
       "</style>\n",
       "<table border=\"1\" class=\"dataframe\">\n",
       "  <thead>\n",
       "    <tr style=\"text-align: right;\">\n",
       "      <th></th>\n",
       "      <th>id</th>\n",
       "      <th>cat1</th>\n",
       "      <th>cat2</th>\n",
       "      <th>cat4</th>\n",
       "      <th>cat5</th>\n",
       "      <th>cat6</th>\n",
       "      <th>cat8</th>\n",
       "      <th>cat9</th>\n",
       "      <th>cat10</th>\n",
       "      <th>cat11</th>\n",
       "      <th>...</th>\n",
       "      <th>cont5</th>\n",
       "      <th>cont6</th>\n",
       "      <th>cont7</th>\n",
       "      <th>cont8</th>\n",
       "      <th>cont9</th>\n",
       "      <th>cont10</th>\n",
       "      <th>cont11</th>\n",
       "      <th>cont13</th>\n",
       "      <th>cont14</th>\n",
       "      <th>loss</th>\n",
       "    </tr>\n",
       "  </thead>\n",
       "  <tbody>\n",
       "    <tr>\n",
       "      <th>0</th>\n",
       "      <td>1</td>\n",
       "      <td>A</td>\n",
       "      <td>B</td>\n",
       "      <td>B</td>\n",
       "      <td>A</td>\n",
       "      <td>A</td>\n",
       "      <td>A</td>\n",
       "      <td>B</td>\n",
       "      <td>A</td>\n",
       "      <td>B</td>\n",
       "      <td>...</td>\n",
       "      <td>0.310061</td>\n",
       "      <td>0.718367</td>\n",
       "      <td>0.335060</td>\n",
       "      <td>0.30260</td>\n",
       "      <td>0.67135</td>\n",
       "      <td>0.83510</td>\n",
       "      <td>0.569745</td>\n",
       "      <td>0.822493</td>\n",
       "      <td>0.714843</td>\n",
       "      <td>2213.18</td>\n",
       "    </tr>\n",
       "    <tr>\n",
       "      <th>1</th>\n",
       "      <td>2</td>\n",
       "      <td>A</td>\n",
       "      <td>B</td>\n",
       "      <td>A</td>\n",
       "      <td>A</td>\n",
       "      <td>A</td>\n",
       "      <td>A</td>\n",
       "      <td>B</td>\n",
       "      <td>B</td>\n",
       "      <td>A</td>\n",
       "      <td>...</td>\n",
       "      <td>0.885834</td>\n",
       "      <td>0.438917</td>\n",
       "      <td>0.436585</td>\n",
       "      <td>0.60087</td>\n",
       "      <td>0.35127</td>\n",
       "      <td>0.43919</td>\n",
       "      <td>0.338312</td>\n",
       "      <td>0.611431</td>\n",
       "      <td>0.304496</td>\n",
       "      <td>1283.60</td>\n",
       "    </tr>\n",
       "    <tr>\n",
       "      <th>2</th>\n",
       "      <td>5</td>\n",
       "      <td>A</td>\n",
       "      <td>B</td>\n",
       "      <td>A</td>\n",
       "      <td>B</td>\n",
       "      <td>A</td>\n",
       "      <td>A</td>\n",
       "      <td>B</td>\n",
       "      <td>B</td>\n",
       "      <td>B</td>\n",
       "      <td>...</td>\n",
       "      <td>0.397069</td>\n",
       "      <td>0.289648</td>\n",
       "      <td>0.315545</td>\n",
       "      <td>0.27320</td>\n",
       "      <td>0.26076</td>\n",
       "      <td>0.32446</td>\n",
       "      <td>0.381398</td>\n",
       "      <td>0.195709</td>\n",
       "      <td>0.774425</td>\n",
       "      <td>3005.09</td>\n",
       "    </tr>\n",
       "    <tr>\n",
       "      <th>3</th>\n",
       "      <td>10</td>\n",
       "      <td>B</td>\n",
       "      <td>B</td>\n",
       "      <td>B</td>\n",
       "      <td>A</td>\n",
       "      <td>A</td>\n",
       "      <td>A</td>\n",
       "      <td>B</td>\n",
       "      <td>A</td>\n",
       "      <td>A</td>\n",
       "      <td>...</td>\n",
       "      <td>0.422268</td>\n",
       "      <td>0.440945</td>\n",
       "      <td>0.391128</td>\n",
       "      <td>0.31796</td>\n",
       "      <td>0.32128</td>\n",
       "      <td>0.44467</td>\n",
       "      <td>0.327915</td>\n",
       "      <td>0.605077</td>\n",
       "      <td>0.602642</td>\n",
       "      <td>939.85</td>\n",
       "    </tr>\n",
       "    <tr>\n",
       "      <th>4</th>\n",
       "      <td>11</td>\n",
       "      <td>A</td>\n",
       "      <td>B</td>\n",
       "      <td>B</td>\n",
       "      <td>A</td>\n",
       "      <td>A</td>\n",
       "      <td>A</td>\n",
       "      <td>B</td>\n",
       "      <td>B</td>\n",
       "      <td>A</td>\n",
       "      <td>...</td>\n",
       "      <td>0.704268</td>\n",
       "      <td>0.178193</td>\n",
       "      <td>0.247408</td>\n",
       "      <td>0.24564</td>\n",
       "      <td>0.22089</td>\n",
       "      <td>0.21230</td>\n",
       "      <td>0.204687</td>\n",
       "      <td>0.246011</td>\n",
       "      <td>0.432606</td>\n",
       "      <td>2763.85</td>\n",
       "    </tr>\n",
       "  </tbody>\n",
       "</table>\n",
       "<p>5 rows × 120 columns</p>\n",
       "</div>"
      ],
      "text/plain": [
       "   id cat1 cat2 cat4 cat5 cat6 cat8 cat9 cat10 cat11  ...     cont5     cont6  \\\n",
       "0   1    A    B    B    A    A    A    B     A     B  ...  0.310061  0.718367   \n",
       "1   2    A    B    A    A    A    A    B     B     A  ...  0.885834  0.438917   \n",
       "2   5    A    B    A    B    A    A    B     B     B  ...  0.397069  0.289648   \n",
       "3  10    B    B    B    A    A    A    B     A     A  ...  0.422268  0.440945   \n",
       "4  11    A    B    B    A    A    A    B     B     A  ...  0.704268  0.178193   \n",
       "\n",
       "      cont7    cont8    cont9   cont10    cont11    cont13    cont14     loss  \n",
       "0  0.335060  0.30260  0.67135  0.83510  0.569745  0.822493  0.714843  2213.18  \n",
       "1  0.436585  0.60087  0.35127  0.43919  0.338312  0.611431  0.304496  1283.60  \n",
       "2  0.315545  0.27320  0.26076  0.32446  0.381398  0.195709  0.774425  3005.09  \n",
       "3  0.391128  0.31796  0.32128  0.44467  0.327915  0.605077  0.602642   939.85  \n",
       "4  0.247408  0.24564  0.22089  0.21230  0.204687  0.246011  0.432606  2763.85  \n",
       "\n",
       "[5 rows x 120 columns]"
      ]
     },
     "execution_count": 2,
     "metadata": {},
     "output_type": "execute_result"
    }
   ],
   "source": [
    "DATA_PATH = './scripts/data/'\n",
    "\n",
    "df_train_full = pd.read_csv(DATA_PATH+'train_cleaned.csv.gz')\n",
    "df_test_full  = pd.read_csv(DATA_PATH+'test_cleaned.csv.gz')\n",
    "\n",
    "df_train_full.head()"
   ]
  },
  {
   "cell_type": "code",
   "execution_count": 3,
   "id": "1625f836",
   "metadata": {},
   "outputs": [],
   "source": [
    "features_numerical   = [column for column in df_train_full if column.startswith('cont')]\n",
    "features_categorical = [column for column in df_train_full if column.startswith('cat')]"
   ]
  },
  {
   "cell_type": "code",
   "execution_count": 4,
   "id": "17e90ff1",
   "metadata": {},
   "outputs": [
    {
     "data": {
      "text/plain": [
       "<AxesSubplot:xlabel='loss', ylabel='Count'>"
      ]
     },
     "execution_count": 4,
     "metadata": {},
     "output_type": "execute_result"
    },
    {
     "data": {
      "image/png": "[encoded data removed]",
      "text/plain": [
       "<Figure size 432x288 with 1 Axes>"
      ]
     },
     "metadata": {
      "needs_background": "light"
     },
     "output_type": "display_data"
    }
   ],
   "source": [
    "# check-out the target column value distribution before log-transform\n",
    "\n",
    "name_of_target_column = 'loss'\n",
    "sns.histplot(df_train_full[name_of_target_column])"
   ]
  },
  {
   "cell_type": "code",
   "execution_count": 5,
   "id": "f69aab6e",
   "metadata": {},
   "outputs": [],
   "source": [
    "name_of_target_column_transformed = name_of_target_column+'_transformed'\n",
    "\n",
    "# logarithmic transform function\n",
    "def log_transform(value):\n",
    "    return np.log1p(value)\n",
    "\n",
    "# create a new logarithmically transformed target column\n",
    "df_train_full[name_of_target_column_transformed] = df_train_full.apply(\n",
    "    lambda row: log_transform(row[name_of_target_column]), axis=1)"
   ]
  },
  {
   "cell_type": "code",
   "execution_count": 6,
   "id": "d4848fde",
   "metadata": {},
   "outputs": [
    {
     "data": {
      "text/plain": [
       "<AxesSubplot:xlabel='loss_transformed', ylabel='Count'>"
      ]
     },
     "execution_count": 6,
     "metadata": {},
     "output_type": "execute_result"
    },
    {
     "data": {
      "image/png": "[encoded data removed]",
      "text/plain": [
       "<Figure size 432x288 with 1 Axes>"
      ]
     },
     "metadata": {
      "needs_background": "light"
     },
     "output_type": "display_data"
    }
   ],
   "source": [
    "# check value distribution of transformed target column\n",
    "\n",
    "sns.histplot(df_train_full[name_of_target_column_transformed])"
   ]
  },
  {
   "cell_type": "code",
   "execution_count": 7,
   "id": "fec4e596",
   "metadata": {},
   "outputs": [],
   "source": [
    "# let's shuffle the whole dataframe before subsampling\n",
    "df_train_full = df_train_full.sample(frac=1, random_state=RANDOM_SEED).reset_index(drop=True)\n",
    "\n",
    "# second shuffle with an exponential random seed :D\n",
    "df_train_full = df_train_full.sample(frac=1, random_state=(RANDOM_SEED**2)).reset_index(drop=True)"
   ]
  },
  {
   "cell_type": "code",
   "execution_count": 8,
   "id": "e643daa8",
   "metadata": {},
   "outputs": [],
   "source": [
    "name_of_target_column_binned = name_of_target_column+'_bin'\n",
    "\n",
    "# 10 bin groups for target values should work fine\n",
    "bin_counts = 10\n",
    "\n",
    "# create bin column in our dataframe\n",
    "df_train_full[name_of_target_column_binned] = pd.qcut(\n",
    "    df_train_full[name_of_target_column_transformed],\n",
    "    q=bin_counts,\n",
    "    labels=list(range(bin_counts)))"
   ]
  },
  {
   "cell_type": "code",
   "execution_count": 9,
   "id": "edb1559a",
   "metadata": {},
   "outputs": [],
   "source": [
    "desired_subsample_size = 25000\n",
    "subsample_fold_split = int(len(df_train_full)/desired_subsample_size)\n",
    "\n",
    "# create desired kfold splitter\n",
    "skf_subsample_full = StratifiedKFold(\n",
    "    n_splits=subsample_fold_split, shuffle=True, random_state=RANDOM_SEED)\n",
    "\n",
    "# make sure target distribution remains the same by utilizing StratifiedKFold data split\n",
    "train_indices_remaining, train_indices_subsample = next(\n",
    "    skf_subsample_full.split(X=df_train_full, y=df_train_full[name_of_target_column_binned]), 0)\n",
    "\n",
    "df_train_full_subsample = df_train_full.iloc[train_indices_subsample, :].reset_index(drop=True)"
   ]
  },
  {
   "cell_type": "code",
   "execution_count": 10,
   "id": "0b39dffa",
   "metadata": {},
   "outputs": [],
   "source": [
    "skf_subsample_trainvalid = StratifiedKFold(\n",
    "    n_splits=5, shuffle=True, random_state=RANDOM_SEED)\n",
    "\n",
    "train_indices_subsample, valid_indices_subsample = next(\n",
    "    skf_subsample_trainvalid.split(X=df_train_full_subsample, y=df_train_full_subsample[name_of_target_column_binned]), 0)\n",
    "\n",
    "df_train_subsample = df_train_full.iloc[train_indices_subsample, :].reset_index(drop=True)\n",
    "df_valid_subsample = df_train_full.iloc[valid_indices_subsample, :].reset_index(drop=True)"
   ]
  },
  {
   "cell_type": "code",
   "execution_count": 11,
   "id": "1aea54f5",
   "metadata": {},
   "outputs": [
    {
     "data": {
      "image/png": "[encoded data removed]",
      "text/plain": [
       "<Figure size 432x288 with 1 Axes>"
      ]
     },
     "metadata": {
      "needs_background": "light"
     },
     "output_type": "display_data"
    }
   ],
   "source": [
    "from matplotlib import pyplot as plt\n",
    "\n",
    "plot_bins = 250\n",
    "\n",
    "plt.hist(\n",
    "    x=df_train_full[name_of_target_column_transformed],\n",
    "    bins=plot_bins,\n",
    "    alpha=0.6,\n",
    "    label='Full Train Dataset')\n",
    "plt.hist(\n",
    "    x=df_train_full_subsample[name_of_target_column_transformed],\n",
    "    bins=plot_bins,\n",
    "    alpha=0.6,\n",
    "    label='Full Subsample Dataset')\n",
    "plt.hist(\n",
    "    x=df_train_subsample[name_of_target_column_transformed],\n",
    "    bins=plot_bins,\n",
    "    alpha=0.5,\n",
    "    label='Subsample Train')\n",
    "plt.hist(\n",
    "    x=df_valid_subsample[name_of_target_column_transformed],\n",
    "    bins=plot_bins,\n",
    "    alpha=0.5,\n",
    "    label='Subsample Validation')\n",
    "\n",
    "plt.yscale('log')\n",
    "plt.legend(loc='upper left')\n",
    "plt.title('Distribution of Target Column Values')\n",
    "plt.rcParams['figure.figsize'] = (1, 1)\n",
    "plt.show()"
   ]
  },
  {
   "cell_type": "code",
   "execution_count": 12,
   "id": "ab1dda43",
   "metadata": {},
   "outputs": [],
   "source": [
    "features_all = features_numerical + features_categorical\n",
    "\n",
    "X_train_subsample = df_train_subsample[features_all].copy()\n",
    "X_valid_subsample = df_valid_subsample[features_all].copy()\n",
    "\n",
    "y_train_subsample = df_train_subsample[name_of_target_column_transformed].to_numpy()\n",
    "y_valid_subsample = df_valid_subsample[name_of_target_column_transformed].to_numpy()"
   ]
  },
  {
   "cell_type": "code",
   "execution_count": 13,
   "id": "203ef60d",
   "metadata": {},
   "outputs": [],
   "source": [
    "gaussian_like = ['cont1', 'cont2', 'cont3', 'cont6', 'cont7', 'cont9', 'cont11', 'cont12']\n",
    "non_gaussian_like = ['cont4', 'cont5', 'cont8', 'cont10', 'cont13', 'cont14']\n",
    "\n",
    "features_numerical_to_normalize = [column for column in gaussian_like if column in df_train_subsample.columns.to_list()]\n",
    "features_numerical_to_standardize = [column for column in non_gaussian_like if column in df_train_subsample.columns.to_list()]"
   ]
  },
  {
   "cell_type": "code",
   "execution_count": 14,
   "id": "9bd42069",
   "metadata": {},
   "outputs": [],
   "source": [
    "features_categorical_to_ordinal = list()\n",
    "features_categorical_to_onehot  = list()\n",
    "\n",
    "for column, variety in X_train_subsample[features_categorical].nunique().iteritems():\n",
    "    if variety < 10: features_categorical_to_onehot.append(column)\n",
    "    else: features_categorical_to_ordinal.append(column)"
   ]
  },
  {
   "cell_type": "code",
   "execution_count": 15,
   "id": "71f11962",
   "metadata": {},
   "outputs": [
    {
     "data": {
      "text/html": [
       "<style>#sk-8ee4dfa0-4442-41b4-ba3f-ebbaa5d48be6 {color: black;background-color: white;}#sk-8ee4dfa0-4442-41b4-ba3f-ebbaa5d48be6 pre{padding: 0;}#sk-8ee4dfa0-4442-41b4-ba3f-ebbaa5d48be6 div.sk-toggleable {background-color: white;}#sk-8ee4dfa0-4442-41b4-ba3f-ebbaa5d48be6 label.sk-toggleable__label {cursor: pointer;display: block;width: 100%;margin-bottom: 0;padding: 0.2em 0.3em;box-sizing: border-box;text-align: center;}#sk-8ee4dfa0-4442-41b4-ba3f-ebbaa5d48be6 div.sk-toggleable__content {max-height: 0;max-width: 0;overflow: hidden;text-align: left;background-color: #f0f8ff;}#sk-8ee4dfa0-4442-41b4-ba3f-ebbaa5d48be6 div.sk-toggleable__content pre {margin: 0.2em;color: black;border-radius: 0.25em;background-color: #f0f8ff;}#sk-8ee4dfa0-4442-41b4-ba3f-ebbaa5d48be6 input.sk-toggleable__control:checked~div.sk-toggleable__content {max-height: 200px;max-width: 100%;overflow: auto;}#sk-8ee4dfa0-4442-41b4-ba3f-ebbaa5d48be6 div.sk-estimator input.sk-toggleable__control:checked~label.sk-toggleable__label {background-color: #d4ebff;}#sk-8ee4dfa0-4442-41b4-ba3f-ebbaa5d48be6 div.sk-label input.sk-toggleable__control:checked~label.sk-toggleable__label {background-color: #d4ebff;}#sk-8ee4dfa0-4442-41b4-ba3f-ebbaa5d48be6 input.sk-hidden--visually {border: 0;clip: rect(1px 1px 1px 1px);clip: rect(1px, 1px, 1px, 1px);height: 1px;margin: -1px;overflow: hidden;padding: 0;position: absolute;width: 1px;}#sk-8ee4dfa0-4442-41b4-ba3f-ebbaa5d48be6 div.sk-estimator {font-family: monospace;background-color: #f0f8ff;margin: 0.25em 0.25em;border: 1px dotted black;border-radius: 0.25em;box-sizing: border-box;}#sk-8ee4dfa0-4442-41b4-ba3f-ebbaa5d48be6 div.sk-estimator:hover {background-color: #d4ebff;}#sk-8ee4dfa0-4442-41b4-ba3f-ebbaa5d48be6 div.sk-parallel-item::after {content: \"\";width: 100%;border-bottom: 1px solid gray;flex-grow: 1;}#sk-8ee4dfa0-4442-41b4-ba3f-ebbaa5d48be6 div.sk-label:hover label.sk-toggleable__label {background-color: #d4ebff;}#sk-8ee4dfa0-4442-41b4-ba3f-ebbaa5d48be6 div.sk-serial::before {content: \"\";position: absolute;border-left: 1px solid gray;box-sizing: border-box;top: 2em;bottom: 0;left: 50%;}#sk-8ee4dfa0-4442-41b4-ba3f-ebbaa5d48be6 div.sk-serial {display: flex;flex-direction: column;align-items: center;background-color: white;}#sk-8ee4dfa0-4442-41b4-ba3f-ebbaa5d48be6 div.sk-item {z-index: 1;}#sk-8ee4dfa0-4442-41b4-ba3f-ebbaa5d48be6 div.sk-parallel {display: flex;align-items: stretch;justify-content: center;background-color: white;}#sk-8ee4dfa0-4442-41b4-ba3f-ebbaa5d48be6 div.sk-parallel-item {display: flex;flex-direction: column;position: relative;background-color: white;}#sk-8ee4dfa0-4442-41b4-ba3f-ebbaa5d48be6 div.sk-parallel-item:first-child::after {align-self: flex-end;width: 50%;}#sk-8ee4dfa0-4442-41b4-ba3f-ebbaa5d48be6 div.sk-parallel-item:last-child::after {align-self: flex-start;width: 50%;}#sk-8ee4dfa0-4442-41b4-ba3f-ebbaa5d48be6 div.sk-parallel-item:only-child::after {width: 0;}#sk-8ee4dfa0-4442-41b4-ba3f-ebbaa5d48be6 div.sk-dashed-wrapped {border: 1px dashed gray;margin: 0.2em;box-sizing: border-box;padding-bottom: 0.1em;background-color: white;position: relative;}#sk-8ee4dfa0-4442-41b4-ba3f-ebbaa5d48be6 div.sk-label label {font-family: monospace;font-weight: bold;background-color: white;display: inline-block;line-height: 1.2em;}#sk-8ee4dfa0-4442-41b4-ba3f-ebbaa5d48be6 div.sk-label-container {position: relative;z-index: 2;text-align: center;}#sk-8ee4dfa0-4442-41b4-ba3f-ebbaa5d48be6 div.sk-container {display: inline-block;position: relative;}</style><div id=\"sk-8ee4dfa0-4442-41b4-ba3f-ebbaa5d48be6\" class\"sk-top-container\"><div class=\"sk-container\"><div class=\"sk-item sk-dashed-wrapped\"><div class=\"sk-label-container\"><div class=\"sk-label sk-toggleable\"><input class=\"sk-toggleable__control sk-hidden--visually\" id=\"2e396bd0-c704-4713-89f6-a6a64950e5d5\" type=\"checkbox\" ><label class=\"sk-toggleable__label\" for=\"2e396bd0-c704-4713-89f6-a6a64950e5d5\">ColumnTransformer</label><div class=\"sk-toggleable__content\"><pre>ColumnTransformer(transformers=[('num',\n",
       "                                 Pipeline(steps=[('imputer', SimpleImputer()),\n",
       "                                                 ('normalizer', MinMaxScaler()),\n",
       "                                                 ('standardizer',\n",
       "                                                  StandardScaler())]),\n",
       "                                 ['cont1', 'cont2', 'cont3', 'cont4', 'cont5',\n",
       "                                  'cont6', 'cont7', 'cont8', 'cont9', 'cont10',\n",
       "                                  'cont11', 'cont13', 'cont14']),\n",
       "                                ('cat1',\n",
       "                                 Pipeline(steps=[('imputer',\n",
       "                                                  SimpleImputer(strategy='most_frequent')),\n",
       "                                                 ('ordinal',\n",
       "                                                  Ord...\n",
       "                                                  SimpleImputer(fill_value='missing',\n",
       "                                                                strategy='constant')),\n",
       "                                                 ('onehot',\n",
       "                                                  OneHotEncoder(handle_unknown='ignore',\n",
       "                                                                sparse=False))]),\n",
       "                                 ['cat1', 'cat2', 'cat4', 'cat5', 'cat6',\n",
       "                                  'cat8', 'cat9', 'cat10', 'cat11', 'cat12',\n",
       "                                  'cat13', 'cat14', 'cat16', 'cat17', 'cat18',\n",
       "                                  'cat19', 'cat20', 'cat21', 'cat23', 'cat24',\n",
       "                                  'cat25', 'cat26', 'cat27', 'cat28', 'cat29',\n",
       "                                  'cat30', 'cat31', 'cat32', 'cat33', 'cat34', ...])])</pre></div></div></div><div class=\"sk-parallel\"><div class=\"sk-parallel-item\"><div class=\"sk-item\"><div class=\"sk-label-container\"><div class=\"sk-label sk-toggleable\"><input class=\"sk-toggleable__control sk-hidden--visually\" id=\"605625e9-f4a2-46eb-948d-8d75788de9a3\" type=\"checkbox\" ><label class=\"sk-toggleable__label\" for=\"605625e9-f4a2-46eb-948d-8d75788de9a3\">num</label><div class=\"sk-toggleable__content\"><pre>['cont1', 'cont2', 'cont3', 'cont4', 'cont5', 'cont6', 'cont7', 'cont8', 'cont9', 'cont10', 'cont11', 'cont13', 'cont14']</pre></div></div></div><div class=\"sk-serial\"><div class=\"sk-item\"><div class=\"sk-serial\"><div class=\"sk-item\"><div class=\"sk-estimator sk-toggleable\"><input class=\"sk-toggleable__control sk-hidden--visually\" id=\"d35b2950-3058-47c4-b9b2-4801704af7e6\" type=\"checkbox\" ><label class=\"sk-toggleable__label\" for=\"d35b2950-3058-47c4-b9b2-4801704af7e6\">SimpleImputer</label><div class=\"sk-toggleable__content\"><pre>SimpleImputer()</pre></div></div></div><div class=\"sk-item\"><div class=\"sk-estimator sk-toggleable\"><input class=\"sk-toggleable__control sk-hidden--visually\" id=\"7e91c365-b98c-4217-b28e-5eab29939190\" type=\"checkbox\" ><label class=\"sk-toggleable__label\" for=\"7e91c365-b98c-4217-b28e-5eab29939190\">MinMaxScaler</label><div class=\"sk-toggleable__content\"><pre>MinMaxScaler()</pre></div></div></div><div class=\"sk-item\"><div class=\"sk-estimator sk-toggleable\"><input class=\"sk-toggleable__control sk-hidden--visually\" id=\"a82f7497-60d4-476d-b215-634150b2c42d\" type=\"checkbox\" ><label class=\"sk-toggleable__label\" for=\"a82f7497-60d4-476d-b215-634150b2c42d\">StandardScaler</label><div class=\"sk-toggleable__content\"><pre>StandardScaler()</pre></div></div></div></div></div></div></div></div><div class=\"sk-parallel-item\"><div class=\"sk-item\"><div class=\"sk-label-container\"><div class=\"sk-label sk-toggleable\"><input class=\"sk-toggleable__control sk-hidden--visually\" id=\"d4bcc2c9-b521-4182-8825-c6dba1e4e00d\" type=\"checkbox\" ><label class=\"sk-toggleable__label\" for=\"d4bcc2c9-b521-4182-8825-c6dba1e4e00d\">cat1</label><div class=\"sk-toggleable__content\"><pre>['cat99', 'cat100', 'cat101', 'cat103', 'cat104', 'cat105', 'cat106', 'cat107', 'cat108', 'cat109', 'cat110', 'cat111', 'cat112', 'cat113', 'cat114', 'cat115', 'cat116']</pre></div></div></div><div class=\"sk-serial\"><div class=\"sk-item\"><div class=\"sk-serial\"><div class=\"sk-item\"><div class=\"sk-estimator sk-toggleable\"><input class=\"sk-toggleable__control sk-hidden--visually\" id=\"d998a683-95b3-406c-bd48-7692a16524e8\" type=\"checkbox\" ><label class=\"sk-toggleable__label\" for=\"d998a683-95b3-406c-bd48-7692a16524e8\">SimpleImputer</label><div class=\"sk-toggleable__content\"><pre>SimpleImputer(strategy='most_frequent')</pre></div></div></div><div class=\"sk-item\"><div class=\"sk-estimator sk-toggleable\"><input class=\"sk-toggleable__control sk-hidden--visually\" id=\"32d22498-5c1f-4754-a0ea-7d1a56ab24f5\" type=\"checkbox\" ><label class=\"sk-toggleable__label\" for=\"32d22498-5c1f-4754-a0ea-7d1a56ab24f5\">OrdinalEncoder</label><div class=\"sk-toggleable__content\"><pre>OrdinalEncoder(handle_unknown='use_encoded_value', unknown_value=-1)</pre></div></div></div><div class=\"sk-item\"><div class=\"sk-estimator sk-toggleable\"><input class=\"sk-toggleable__control sk-hidden--visually\" id=\"46060c92-c15b-4354-a8b3-04b67806b438\" type=\"checkbox\" ><label class=\"sk-toggleable__label\" for=\"46060c92-c15b-4354-a8b3-04b67806b438\">MinMaxScaler</label><div class=\"sk-toggleable__content\"><pre>MinMaxScaler()</pre></div></div></div></div></div></div></div></div><div class=\"sk-parallel-item\"><div class=\"sk-item\"><div class=\"sk-label-container\"><div class=\"sk-label sk-toggleable\"><input class=\"sk-toggleable__control sk-hidden--visually\" id=\"7090ac86-afcb-4ede-a475-e470d7ac30e2\" type=\"checkbox\" ><label class=\"sk-toggleable__label\" for=\"7090ac86-afcb-4ede-a475-e470d7ac30e2\">cat2</label><div class=\"sk-toggleable__content\"><pre>['cat1', 'cat2', 'cat4', 'cat5', 'cat6', 'cat8', 'cat9', 'cat10', 'cat11', 'cat12', 'cat13', 'cat14', 'cat16', 'cat17', 'cat18', 'cat19', 'cat20', 'cat21', 'cat23', 'cat24', 'cat25', 'cat26', 'cat27', 'cat28', 'cat29', 'cat30', 'cat31', 'cat32', 'cat33', 'cat34', 'cat35', 'cat36', 'cat37', 'cat38', 'cat39', 'cat40', 'cat41', 'cat42', 'cat43', 'cat44', 'cat45', 'cat46', 'cat47', 'cat48', 'cat49', 'cat50', 'cat51', 'cat52', 'cat53', 'cat54', 'cat57', 'cat58', 'cat59', 'cat60', 'cat61', 'cat65', 'cat66', 'cat67', 'cat69', 'cat71', 'cat72', 'cat73', 'cat74', 'cat75', 'cat76', 'cat77', 'cat78', 'cat79', 'cat80', 'cat81', 'cat82', 'cat83', 'cat84', 'cat85', 'cat86', 'cat87', 'cat88', 'cat89', 'cat90', 'cat91', 'cat92', 'cat93', 'cat94', 'cat95', 'cat96', 'cat97', 'cat98', 'cat102']</pre></div></div></div><div class=\"sk-serial\"><div class=\"sk-item\"><div class=\"sk-serial\"><div class=\"sk-item\"><div class=\"sk-estimator sk-toggleable\"><input class=\"sk-toggleable__control sk-hidden--visually\" id=\"aedced47-6199-45b5-8da9-1f0782288c58\" type=\"checkbox\" ><label class=\"sk-toggleable__label\" for=\"aedced47-6199-45b5-8da9-1f0782288c58\">SimpleImputer</label><div class=\"sk-toggleable__content\"><pre>SimpleImputer(fill_value='missing', strategy='constant')</pre></div></div></div><div class=\"sk-item\"><div class=\"sk-estimator sk-toggleable\"><input class=\"sk-toggleable__control sk-hidden--visually\" id=\"3d1f356a-0642-4e0b-a78a-c730e7274883\" type=\"checkbox\" ><label class=\"sk-toggleable__label\" for=\"3d1f356a-0642-4e0b-a78a-c730e7274883\">OneHotEncoder</label><div class=\"sk-toggleable__content\"><pre>OneHotEncoder(handle_unknown='ignore', sparse=False)</pre></div></div></div></div></div></div></div></div></div></div></div></div>"
      ],
      "text/plain": [
       "ColumnTransformer(transformers=[('num',\n",
       "                                 Pipeline(steps=[('imputer', SimpleImputer()),\n",
       "                                                 ('normalizer', MinMaxScaler()),\n",
       "                                                 ('standardizer',\n",
       "                                                  StandardScaler())]),\n",
       "                                 ['cont1', 'cont2', 'cont3', 'cont4', 'cont5',\n",
       "                                  'cont6', 'cont7', 'cont8', 'cont9', 'cont10',\n",
       "                                  'cont11', 'cont13', 'cont14']),\n",
       "                                ('cat1',\n",
       "                                 Pipeline(steps=[('imputer',\n",
       "                                                  SimpleImputer(strategy='most_frequent')),\n",
       "                                                 ('ordinal',\n",
       "                                                  Ord...\n",
       "                                                  SimpleImputer(fill_value='missing',\n",
       "                                                                strategy='constant')),\n",
       "                                                 ('onehot',\n",
       "                                                  OneHotEncoder(handle_unknown='ignore',\n",
       "                                                                sparse=False))]),\n",
       "                                 ['cat1', 'cat2', 'cat4', 'cat5', 'cat6',\n",
       "                                  'cat8', 'cat9', 'cat10', 'cat11', 'cat12',\n",
       "                                  'cat13', 'cat14', 'cat16', 'cat17', 'cat18',\n",
       "                                  'cat19', 'cat20', 'cat21', 'cat23', 'cat24',\n",
       "                                  'cat25', 'cat26', 'cat27', 'cat28', 'cat29',\n",
       "                                  'cat30', 'cat31', 'cat32', 'cat33', 'cat34', ...])])"
      ]
     },
     "execution_count": 15,
     "metadata": {},
     "output_type": "execute_result"
    }
   ],
   "source": [
    "# create transform pipeline for numerical features\n",
    "transformer_numerical = Pipeline(steps=[\n",
    "    ('imputer', SimpleImputer(strategy='mean')),\n",
    "    ('normalizer', MinMaxScaler()),\n",
    "    ('standardizer', StandardScaler()),\n",
    "])\n",
    "\n",
    "# create transform pipelines for categorical features\n",
    "transformer_categorical_1 = Pipeline(steps=[\n",
    "    ('imputer', SimpleImputer(strategy='most_frequent')),\n",
    "    ('ordinal', OrdinalEncoder(handle_unknown='use_encoded_value', unknown_value=-1)),\n",
    "    ('normal',  MinMaxScaler()),\n",
    "])\n",
    "transformer_categorical_transformer2 = Pipeline(steps=[\n",
    "    ('imputer', SimpleImputer(strategy='constant', fill_value='missing')),\n",
    "    ('onehot', OneHotEncoder(handle_unknown='ignore', sparse=False))\n",
    "])\n",
    "\n",
    "# bundle preprocessing for numerical and categorical data\n",
    "preprocessor = ColumnTransformer(\n",
    "    transformers=[\n",
    "        ('num',  transformer_numerical, features_numerical),\n",
    "        ('cat1', transformer_categorical_1, features_categorical_to_ordinal),\n",
    "        ('cat2', transformer_categorical_transformer2, features_categorical_to_onehot),\n",
    "    ])\n",
    "\n",
    "\n",
    "# take a look at preprocessing pipeline\n",
    "set_config(display='diagram')\n",
    "preprocessor"
   ]
  },
  {
   "cell_type": "code",
   "execution_count": 16,
   "id": "0b540f61",
   "metadata": {},
   "outputs": [
    {
     "name": "stdout",
     "output_type": "stream",
     "text": [
      "MAE Score: 1301.5977167053716\n"
     ]
    }
   ],
   "source": [
    "# ignore regressor converge warning\n",
    "simplefilter('ignore', category=ConvergenceWarning)\n",
    "\n",
    "\n",
    "model_hr = HuberRegressor()\n",
    "\n",
    "# bundle preprocessing and modeling in a final pipeline\n",
    "pipeline_hr = Pipeline(steps=[\n",
    "    ('preprocessor', preprocessor),\n",
    "    ('model', model_hr)\n",
    "])\n",
    "\n",
    "# preprocess train data & fit model\n",
    "pipeline_hr.fit(X_train_subsample, y_train_subsample)\n",
    "\n",
    "\n",
    "y_pred_subsample_hr = pipeline_hr.predict(X_valid_subsample)\n",
    "\n",
    "# preprocess validation data and get predictions to evaluate the model\n",
    "# don't forget to transfer back target values after inference prediction with np.expm1() ;)\n",
    "score_mae_hr = mean_absolute_error(\n",
    "    np.expm1(y_valid_subsample), np.expm1(y_pred_subsample_hr))\n",
    "print('MAE Score:', score_mae_hr)"
   ]
  },
  {
   "cell_type": "code",
   "execution_count": 17,
   "id": "63cfe968",
   "metadata": {},
   "outputs": [
    {
     "name": "stdout",
     "output_type": "stream",
     "text": [
      "<<MAE Scores for Huber Regression Model :: Study Parameter: Alpha (Regularization Parameter)>>\n",
      "Val.\tScore\n",
      "0 \t 1300.971\n",
      "1 \t 1300.5205\n",
      "10 \t 1300.4282\n",
      "100 \t 1295.127\n",
      "200 \t 1293.8613\n",
      "300 \t 1293.1329\n",
      "400 \t 1298.2578\n",
      "500 \t 1303.072\n"
     ]
    }
   ],
   "source": [
    "tune_subject = 'Alpha (Regularization Parameter)'\n",
    "tune_values = [0, 1, 10, 100, 200, 300, 400, 500]\n",
    "\n",
    "scores = list()\n",
    "print(f'<<MAE Scores for Huber Regression Model :: Study Parameter: {tune_subject}>>\\nVal.\\tScore')\n",
    "for value in tune_values:\n",
    "    model_hr = HuberRegressor(alpha=value)\n",
    "    pipeline_hr = Pipeline(steps=[\n",
    "        ('preprocessor', preprocessor),\n",
    "        ('model', model_hr)\n",
    "    ])\n",
    "    pipeline_hr.fit(X_train_subsample, y_train_subsample)\n",
    "\n",
    "    y_pred_subsample_hr = pipeline_hr.predict(X_valid_subsample)\n",
    "    score_mae_hr = mean_absolute_error(np.expm1(y_valid_subsample), np.expm1(y_pred_subsample_hr))\n",
    "    scores.append((value, score_mae_hr))\n",
    "    print(f'{value} \\t {round(score_mae_hr, 4)}')"
   ]
  },
  {
   "cell_type": "code",
   "execution_count": 18,
   "id": "3bfb15cc",
   "metadata": {},
   "outputs": [
    {
     "name": "stdout",
     "output_type": "stream",
     "text": [
      "<<MAE Scores for Huber Regression Model :: Study Parameter: Alpha (Regularization Parameter)>>\n",
      "Val.\tScore\n",
      "2.5 \t 1289.6737\n",
      "2.6 \t 1289.8727\n",
      "2.7 \t 1289.3991\n",
      "2.8 \t 1288.1551\n",
      "2.9 \t 1292.1488\n",
      "3.0 \t 1289.3452\n",
      "3.1 \t 1288.7172\n",
      "3.2 \t 1288.6177\n",
      "3.3 \t 1288.6459\n",
      "3.4 \t 1289.142\n"
     ]
    }
   ],
   "source": [
    "tune_subject = 'Alpha (Regularization Parameter)'\n",
    "tune_values = [round(item, 2) for item in np.arange(2.5, 3.5, 0.1)]\n",
    "\n",
    "scores = list()\n",
    "print(f'<<MAE Scores for Huber Regression Model :: Study Parameter: {tune_subject}>>\\nVal.\\tScore')\n",
    "for value in tune_values:\n",
    "    model_hr = HuberRegressor(alpha=200, epsilon=value)\n",
    "    pipeline_hr = Pipeline(steps=[\n",
    "        ('preprocessor', preprocessor),\n",
    "        ('model', model_hr)\n",
    "    ])\n",
    "    pipeline_hr.fit(X_train_subsample, y_train_subsample)\n",
    "\n",
    "    y_pred_subsample_hr = pipeline_hr.predict(X_valid_subsample)\n",
    "    score_mae_hr = mean_absolute_error(np.expm1(y_valid_subsample), np.expm1(y_pred_subsample_hr))\n",
    "    scores.append((value, score_mae_hr))\n",
    "    print(f'{value} \\t {round(score_mae_hr, 4)}')"
   ]
  },
  {
   "cell_type": "code",
   "execution_count": 19,
   "id": "406c0cb2",
   "metadata": {},
   "outputs": [
    {
     "name": "stdout",
     "output_type": "stream",
     "text": [
      "MAE Score: 1256.4217276244278\n"
     ]
    }
   ],
   "source": [
    "model_rf = RandomForestRegressor(random_state=RANDOM_SEED, n_jobs=-1)\n",
    "\n",
    "# bundle preprocessing and modeling in a final pipeline\n",
    "pipeline_rf = Pipeline(steps=[\n",
    "    ('preprocessor', preprocessor),\n",
    "    ('model', model_rf)\n",
    "])\n",
    "\n",
    "# preprocess train data & fit model\n",
    "pipeline_rf.fit(X_train_subsample, y_train_subsample)\n",
    "\n",
    "\n",
    "y_pred_subsample_rf = pipeline_rf.predict(X_valid_subsample)\n",
    "\n",
    "# preprocess validation data and get predictions to evaluate the model\n",
    "# don't forget to transfer back target values after inference prediction with np.expm1() ;)\n",
    "score_mae_rf = mean_absolute_error(np.expm1(y_valid_subsample), np.expm1(y_pred_subsample_rf))\n",
    "print('MAE Score:', score_mae_rf)"
   ]
  },
  {
   "cell_type": "code",
   "execution_count": 20,
   "id": "ff57b785",
   "metadata": {},
   "outputs": [
    {
     "name": "stdout",
     "output_type": "stream",
     "text": [
      "<<MAE Scores for Random Forest Model :: Study Parameter: Max Depth>>\n",
      "Val.\tScore\n",
      "3 \t 1447.5336\n",
      "5 \t 1348.4137\n",
      "10 \t 1272.5134\n",
      "15 \t 1254.9051\n",
      "20 \t 1255.3437\n",
      "25 \t 1253.8527\n",
      "30 \t 1255.6243\n"
     ]
    }
   ],
   "source": [
    "tune_subject = 'Max Depth'\n",
    "tune_values  = [3, 5, 10, 15, 20, 25, 30]\n",
    "\n",
    "scores = list()\n",
    "print(f'<<MAE Scores for Random Forest Model :: Study Parameter: {tune_subject}>>\\nVal.\\tScore')\n",
    "for value in tune_values:\n",
    "    model_rf = RandomForestRegressor(max_depth=value, random_state=RANDOM_SEED, n_jobs=-1)\n",
    "    pipeline_rf = Pipeline(steps=[\n",
    "        ('preprocessor', preprocessor),\n",
    "        ('model', model_rf)\n",
    "    ])\n",
    "    pipeline_rf.fit(X_train_subsample, y_train_subsample)\n",
    "\n",
    "    y_pred_subsample_rf = pipeline_rf.predict(X_valid_subsample)\n",
    "    score_mae_rf = mean_absolute_error(np.expm1(y_valid_subsample), np.expm1(y_pred_subsample_rf))\n",
    "    scores.append((value, score_mae_rf))\n",
    "    print(f'{value} \\t {round(score_mae_rf, 4)}')"
   ]
  },
  {
   "cell_type": "code",
   "execution_count": 21,
   "id": "aec373e2",
   "metadata": {},
   "outputs": [
    {
     "name": "stdout",
     "output_type": "stream",
     "text": [
      "<<MAE Scores for Random Forest Model :: Study Parameter: Number of Estimators>>\n",
      "Val.\tScore\n",
      "50 \t 1258.2729\n",
      "100 \t 1254.9051\n",
      "150 \t 1254.7139\n",
      "200 \t 1255.0646\n",
      "250 \t 1254.189\n"
     ]
    }
   ],
   "source": [
    "tune_subject = 'Number of Estimators'\n",
    "tune_values = list(range(50, 300, 50))\n",
    "\n",
    "scores = list()\n",
    "print(f'<<MAE Scores for Random Forest Model :: Study Parameter: {tune_subject}>>\\nVal.\\tScore')\n",
    "for value in tune_values:\n",
    "    model_rf = RandomForestRegressor(max_depth=15, n_estimators=value, random_state=RANDOM_SEED, n_jobs=-1)\n",
    "    pipeline_rf = Pipeline(steps=[\n",
    "        ('preprocessor', preprocessor),\n",
    "        ('model', model_rf)\n",
    "    ])\n",
    "    pipeline_rf.fit(X_train_subsample, y_train_subsample)\n",
    "\n",
    "    y_pred_subsample_rf = pipeline_rf.predict(X_valid_subsample)\n",
    "    score_mae_rf = mean_absolute_error(np.expm1(y_valid_subsample), np.expm1(y_pred_subsample_rf))\n",
    "    scores.append((value, score_mae_rf))\n",
    "    print(f'{value} \\t {round(score_mae_rf, 4)}')"
   ]
  },
  {
   "cell_type": "code",
   "execution_count": 22,
   "id": "42a5c2ad",
   "metadata": {},
   "outputs": [
    {
     "name": "stdout",
     "output_type": "stream",
     "text": [
      "<<MAE Scores for Random Forest Model :: Study Parameter: Max Number of Features for Splitting>>\n",
      "Val.\tScore\n",
      "8 \t 1317.1715\n",
      "16 \t 1274.3149\n",
      "32 \t 1256.0595\n",
      "40 \t 1255.3021\n",
      "48 \t 1254.0412\n",
      "56 \t 1253.0149\n",
      "64 \t 1247.4436\n",
      "72 \t 1252.0038\n",
      "80 \t 1253.6833\n"
     ]
    }
   ],
   "source": [
    "tune_subject = 'Max Number of Features for Splitting'\n",
    "tune_values = [8, 16, 32, 40, 48, 56, 64, 72, 80]\n",
    "\n",
    "scores = list()\n",
    "print(f'<<MAE Scores for Random Forest Model :: Study Parameter: {tune_subject}>>\\nVal.\\tScore')\n",
    "for value in tune_values:\n",
    "    model_rf = RandomForestRegressor(max_depth=15, n_estimators=150,\n",
    "        max_features=value, random_state=RANDOM_SEED, n_jobs=-1)\n",
    "    pipeline_rf = Pipeline(steps=[\n",
    "        ('preprocessor', preprocessor),\n",
    "        ('model', model_rf)\n",
    "    ])\n",
    "    pipeline_rf.fit(X_train_subsample, y_train_subsample)\n",
    "\n",
    "    y_pred_subsample_rf = pipeline_rf.predict(X_valid_subsample)\n",
    "    score_mae_rf = mean_absolute_error(np.expm1(y_valid_subsample), np.expm1(y_pred_subsample_rf))\n",
    "    scores.append((value, score_mae_rf))\n",
    "    print(f'{value} \\t {round(score_mae_rf, 4)}')"
   ]
  },
  {
   "cell_type": "code",
   "execution_count": 23,
   "id": "2ba9df26",
   "metadata": {},
   "outputs": [
    {
     "name": "stdout",
     "output_type": "stream",
     "text": [
      "MAE Score: 1249.1984325267313\n"
     ]
    }
   ],
   "source": [
    "model_xgb = xgb.XGBRegressor()\n",
    "pipeline_xgb = Pipeline(steps=[\n",
    "    ('preprocessor', preprocessor),\n",
    "    ('model', model_xgb)\n",
    "])\n",
    "pipeline_xgb.fit(X_train_subsample, y_train_subsample)\n",
    "\n",
    "y_pred_subsample_xgb = pipeline_xgb.predict(X_valid_subsample)\n",
    "score_mae_xgb = mean_absolute_error(np.expm1(y_valid_subsample), np.expm1(y_pred_subsample_xgb))\n",
    "print('MAE Score:', score_mae_xgb)"
   ]
  },
  {
   "cell_type": "code",
   "execution_count": 24,
   "id": "c60de2e1",
   "metadata": {},
   "outputs": [],
   "source": [
    "gpu_enabled = True\n",
    "\n",
    "tree_method_applied = 'gpu_hist' if gpu_enabled else 'auto'"
   ]
  },
  {
   "cell_type": "code",
   "execution_count": 25,
   "id": "a5065974",
   "metadata": {},
   "outputs": [
    {
     "name": "stdout",
     "output_type": "stream",
     "text": [
      "<<MAE Scores for XGBoost Model :: Study Parameter: Number of Estimators>>\n",
      "Val.\tScore\n"
     ]
    },
    {
     "ename": "XGBoostError",
     "evalue": "[14:12:51] d:\\bld\\xgboost-split_1645118015404\\work\\src\\common\\common.h:157: XGBoost version not compiled with GPU support.",
     "output_type": "error",
     "traceback": [
      "\u001b[1;31m---------------------------------------------------------------------------\u001b[0m",
      "\u001b[1;31mXGBoostError\u001b[0m                              Traceback (most recent call last)",
      "\u001b[1;32mC:\\Users\\CHANDA~1.SIN\\AppData\\Local\\Temp/ipykernel_27356/715573531.py\u001b[0m in \u001b[0;36m<module>\u001b[1;34m\u001b[0m\n\u001b[0;32m     21\u001b[0m         \u001b[1;33m(\u001b[0m\u001b[1;34m'model'\u001b[0m\u001b[1;33m,\u001b[0m \u001b[0mmodel_xgb\u001b[0m\u001b[1;33m)\u001b[0m\u001b[1;33m\u001b[0m\u001b[1;33m\u001b[0m\u001b[0m\n\u001b[0;32m     22\u001b[0m     ])\n\u001b[1;32m---> 23\u001b[1;33m     \u001b[0mpipeline_xgb\u001b[0m\u001b[1;33m.\u001b[0m\u001b[0mfit\u001b[0m\u001b[1;33m(\u001b[0m\u001b[0mX_train_subsample\u001b[0m\u001b[1;33m,\u001b[0m \u001b[0my_train_subsample\u001b[0m\u001b[1;33m)\u001b[0m\u001b[1;33m\u001b[0m\u001b[1;33m\u001b[0m\u001b[0m\n\u001b[0m\u001b[0;32m     24\u001b[0m \u001b[1;33m\u001b[0m\u001b[0m\n\u001b[0;32m     25\u001b[0m     \u001b[0my_pred_subsample_xgb\u001b[0m \u001b[1;33m=\u001b[0m \u001b[0mpipeline_xgb\u001b[0m\u001b[1;33m.\u001b[0m\u001b[0mpredict\u001b[0m\u001b[1;33m(\u001b[0m\u001b[0mX_valid_subsample\u001b[0m\u001b[1;33m)\u001b[0m\u001b[1;33m\u001b[0m\u001b[1;33m\u001b[0m\u001b[0m\n",
      "\u001b[1;32m~\\Anaconda3\\lib\\site-packages\\sklearn\\pipeline.py\u001b[0m in \u001b[0;36mfit\u001b[1;34m(self, X, y, **fit_params)\u001b[0m\n\u001b[0;32m    344\u001b[0m             \u001b[1;32mif\u001b[0m \u001b[0mself\u001b[0m\u001b[1;33m.\u001b[0m\u001b[0m_final_estimator\u001b[0m \u001b[1;33m!=\u001b[0m \u001b[1;34m'passthrough'\u001b[0m\u001b[1;33m:\u001b[0m\u001b[1;33m\u001b[0m\u001b[1;33m\u001b[0m\u001b[0m\n\u001b[0;32m    345\u001b[0m                 \u001b[0mfit_params_last_step\u001b[0m \u001b[1;33m=\u001b[0m \u001b[0mfit_params_steps\u001b[0m\u001b[1;33m[\u001b[0m\u001b[0mself\u001b[0m\u001b[1;33m.\u001b[0m\u001b[0msteps\u001b[0m\u001b[1;33m[\u001b[0m\u001b[1;33m-\u001b[0m\u001b[1;36m1\u001b[0m\u001b[1;33m]\u001b[0m\u001b[1;33m[\u001b[0m\u001b[1;36m0\u001b[0m\u001b[1;33m]\u001b[0m\u001b[1;33m]\u001b[0m\u001b[1;33m\u001b[0m\u001b[1;33m\u001b[0m\u001b[0m\n\u001b[1;32m--> 346\u001b[1;33m                 \u001b[0mself\u001b[0m\u001b[1;33m.\u001b[0m\u001b[0m_final_estimator\u001b[0m\u001b[1;33m.\u001b[0m\u001b[0mfit\u001b[0m\u001b[1;33m(\u001b[0m\u001b[0mXt\u001b[0m\u001b[1;33m,\u001b[0m \u001b[0my\u001b[0m\u001b[1;33m,\u001b[0m \u001b[1;33m**\u001b[0m\u001b[0mfit_params_last_step\u001b[0m\u001b[1;33m)\u001b[0m\u001b[1;33m\u001b[0m\u001b[1;33m\u001b[0m\u001b[0m\n\u001b[0m\u001b[0;32m    347\u001b[0m \u001b[1;33m\u001b[0m\u001b[0m\n\u001b[0;32m    348\u001b[0m         \u001b[1;32mreturn\u001b[0m \u001b[0mself\u001b[0m\u001b[1;33m\u001b[0m\u001b[1;33m\u001b[0m\u001b[0m\n",
      "\u001b[1;32m~\\Anaconda3\\lib\\site-packages\\xgboost\\core.py\u001b[0m in \u001b[0;36minner_f\u001b[1;34m(*args, **kwargs)\u001b[0m\n\u001b[0;32m    504\u001b[0m         \u001b[1;32mfor\u001b[0m \u001b[0mk\u001b[0m\u001b[1;33m,\u001b[0m \u001b[0marg\u001b[0m \u001b[1;32min\u001b[0m \u001b[0mzip\u001b[0m\u001b[1;33m(\u001b[0m\u001b[0msig\u001b[0m\u001b[1;33m.\u001b[0m\u001b[0mparameters\u001b[0m\u001b[1;33m,\u001b[0m \u001b[0margs\u001b[0m\u001b[1;33m)\u001b[0m\u001b[1;33m:\u001b[0m\u001b[1;33m\u001b[0m\u001b[1;33m\u001b[0m\u001b[0m\n\u001b[0;32m    505\u001b[0m             \u001b[0mkwargs\u001b[0m\u001b[1;33m[\u001b[0m\u001b[0mk\u001b[0m\u001b[1;33m]\u001b[0m \u001b[1;33m=\u001b[0m \u001b[0marg\u001b[0m\u001b[1;33m\u001b[0m\u001b[1;33m\u001b[0m\u001b[0m\n\u001b[1;32m--> 506\u001b[1;33m         \u001b[1;32mreturn\u001b[0m \u001b[0mf\u001b[0m\u001b[1;33m(\u001b[0m\u001b[1;33m**\u001b[0m\u001b[0mkwargs\u001b[0m\u001b[1;33m)\u001b[0m\u001b[1;33m\u001b[0m\u001b[1;33m\u001b[0m\u001b[0m\n\u001b[0m\u001b[0;32m    507\u001b[0m \u001b[1;33m\u001b[0m\u001b[0m\n\u001b[0;32m    508\u001b[0m     \u001b[1;32mreturn\u001b[0m \u001b[0minner_f\u001b[0m\u001b[1;33m\u001b[0m\u001b[1;33m\u001b[0m\u001b[0m\n",
      "\u001b[1;32m~\\Anaconda3\\lib\\site-packages\\xgboost\\sklearn.py\u001b[0m in \u001b[0;36mfit\u001b[1;34m(self, X, y, sample_weight, base_margin, eval_set, eval_metric, early_stopping_rounds, verbose, xgb_model, sample_weight_eval_set, base_margin_eval_set, feature_weights, callbacks)\u001b[0m\n\u001b[0;32m    787\u001b[0m \u001b[1;33m\u001b[0m\u001b[0m\n\u001b[0;32m    788\u001b[0m         \u001b[0mmodel\u001b[0m\u001b[1;33m,\u001b[0m \u001b[0mfeval\u001b[0m\u001b[1;33m,\u001b[0m \u001b[0mparams\u001b[0m \u001b[1;33m=\u001b[0m \u001b[0mself\u001b[0m\u001b[1;33m.\u001b[0m\u001b[0m_configure_fit\u001b[0m\u001b[1;33m(\u001b[0m\u001b[0mxgb_model\u001b[0m\u001b[1;33m,\u001b[0m \u001b[0meval_metric\u001b[0m\u001b[1;33m,\u001b[0m \u001b[0mparams\u001b[0m\u001b[1;33m)\u001b[0m\u001b[1;33m\u001b[0m\u001b[1;33m\u001b[0m\u001b[0m\n\u001b[1;32m--> 789\u001b[1;33m         self._Booster = train(\n\u001b[0m\u001b[0;32m    790\u001b[0m             \u001b[0mparams\u001b[0m\u001b[1;33m,\u001b[0m\u001b[1;33m\u001b[0m\u001b[1;33m\u001b[0m\u001b[0m\n\u001b[0;32m    791\u001b[0m             \u001b[0mtrain_dmatrix\u001b[0m\u001b[1;33m,\u001b[0m\u001b[1;33m\u001b[0m\u001b[1;33m\u001b[0m\u001b[0m\n",
      "\u001b[1;32m~\\Anaconda3\\lib\\site-packages\\xgboost\\training.py\u001b[0m in \u001b[0;36mtrain\u001b[1;34m(params, dtrain, num_boost_round, evals, obj, feval, maximize, early_stopping_rounds, evals_result, verbose_eval, xgb_model, callbacks)\u001b[0m\n\u001b[0;32m    186\u001b[0m     \u001b[0mBooster\u001b[0m \u001b[1;33m:\u001b[0m \u001b[0ma\u001b[0m \u001b[0mtrained\u001b[0m \u001b[0mbooster\u001b[0m \u001b[0mmodel\u001b[0m\u001b[1;33m\u001b[0m\u001b[1;33m\u001b[0m\u001b[0m\n\u001b[0;32m    187\u001b[0m     \"\"\"\n\u001b[1;32m--> 188\u001b[1;33m     bst = _train_internal(params, dtrain,\n\u001b[0m\u001b[0;32m    189\u001b[0m                           \u001b[0mnum_boost_round\u001b[0m\u001b[1;33m=\u001b[0m\u001b[0mnum_boost_round\u001b[0m\u001b[1;33m,\u001b[0m\u001b[1;33m\u001b[0m\u001b[1;33m\u001b[0m\u001b[0m\n\u001b[0;32m    190\u001b[0m                           \u001b[0mevals\u001b[0m\u001b[1;33m=\u001b[0m\u001b[0mevals\u001b[0m\u001b[1;33m,\u001b[0m\u001b[1;33m\u001b[0m\u001b[1;33m\u001b[0m\u001b[0m\n",
      "\u001b[1;32m~\\Anaconda3\\lib\\site-packages\\xgboost\\training.py\u001b[0m in \u001b[0;36m_train_internal\u001b[1;34m(params, dtrain, num_boost_round, evals, obj, feval, xgb_model, callbacks, evals_result, maximize, verbose_eval, early_stopping_rounds)\u001b[0m\n\u001b[0;32m     79\u001b[0m         \u001b[1;32mif\u001b[0m \u001b[0mcallbacks\u001b[0m\u001b[1;33m.\u001b[0m\u001b[0mbefore_iteration\u001b[0m\u001b[1;33m(\u001b[0m\u001b[0mbst\u001b[0m\u001b[1;33m,\u001b[0m \u001b[0mi\u001b[0m\u001b[1;33m,\u001b[0m \u001b[0mdtrain\u001b[0m\u001b[1;33m,\u001b[0m \u001b[0mevals\u001b[0m\u001b[1;33m)\u001b[0m\u001b[1;33m:\u001b[0m\u001b[1;33m\u001b[0m\u001b[1;33m\u001b[0m\u001b[0m\n\u001b[0;32m     80\u001b[0m             \u001b[1;32mbreak\u001b[0m\u001b[1;33m\u001b[0m\u001b[1;33m\u001b[0m\u001b[0m\n\u001b[1;32m---> 81\u001b[1;33m         \u001b[0mbst\u001b[0m\u001b[1;33m.\u001b[0m\u001b[0mupdate\u001b[0m\u001b[1;33m(\u001b[0m\u001b[0mdtrain\u001b[0m\u001b[1;33m,\u001b[0m \u001b[0mi\u001b[0m\u001b[1;33m,\u001b[0m \u001b[0mobj\u001b[0m\u001b[1;33m)\u001b[0m\u001b[1;33m\u001b[0m\u001b[1;33m\u001b[0m\u001b[0m\n\u001b[0m\u001b[0;32m     82\u001b[0m         \u001b[1;32mif\u001b[0m \u001b[0mcallbacks\u001b[0m\u001b[1;33m.\u001b[0m\u001b[0mafter_iteration\u001b[0m\u001b[1;33m(\u001b[0m\u001b[0mbst\u001b[0m\u001b[1;33m,\u001b[0m \u001b[0mi\u001b[0m\u001b[1;33m,\u001b[0m \u001b[0mdtrain\u001b[0m\u001b[1;33m,\u001b[0m \u001b[0mevals\u001b[0m\u001b[1;33m)\u001b[0m\u001b[1;33m:\u001b[0m\u001b[1;33m\u001b[0m\u001b[1;33m\u001b[0m\u001b[0m\n\u001b[0;32m     83\u001b[0m             \u001b[1;32mbreak\u001b[0m\u001b[1;33m\u001b[0m\u001b[1;33m\u001b[0m\u001b[0m\n",
      "\u001b[1;32m~\\Anaconda3\\lib\\site-packages\\xgboost\\core.py\u001b[0m in \u001b[0;36mupdate\u001b[1;34m(self, dtrain, iteration, fobj)\u001b[0m\n\u001b[0;32m   1678\u001b[0m \u001b[1;33m\u001b[0m\u001b[0m\n\u001b[0;32m   1679\u001b[0m         \u001b[1;32mif\u001b[0m \u001b[0mfobj\u001b[0m \u001b[1;32mis\u001b[0m \u001b[1;32mNone\u001b[0m\u001b[1;33m:\u001b[0m\u001b[1;33m\u001b[0m\u001b[1;33m\u001b[0m\u001b[0m\n\u001b[1;32m-> 1680\u001b[1;33m             _check_call(_LIB.XGBoosterUpdateOneIter(self.handle,\n\u001b[0m\u001b[0;32m   1681\u001b[0m                                                     \u001b[0mctypes\u001b[0m\u001b[1;33m.\u001b[0m\u001b[0mc_int\u001b[0m\u001b[1;33m(\u001b[0m\u001b[0miteration\u001b[0m\u001b[1;33m)\u001b[0m\u001b[1;33m,\u001b[0m\u001b[1;33m\u001b[0m\u001b[1;33m\u001b[0m\u001b[0m\n\u001b[0;32m   1682\u001b[0m                                                     dtrain.handle))\n",
      "\u001b[1;32m~\\Anaconda3\\lib\\site-packages\\xgboost\\core.py\u001b[0m in \u001b[0;36m_check_call\u001b[1;34m(ret)\u001b[0m\n\u001b[0;32m    216\u001b[0m     \"\"\"\n\u001b[0;32m    217\u001b[0m     \u001b[1;32mif\u001b[0m \u001b[0mret\u001b[0m \u001b[1;33m!=\u001b[0m \u001b[1;36m0\u001b[0m\u001b[1;33m:\u001b[0m\u001b[1;33m\u001b[0m\u001b[1;33m\u001b[0m\u001b[0m\n\u001b[1;32m--> 218\u001b[1;33m         \u001b[1;32mraise\u001b[0m \u001b[0mXGBoostError\u001b[0m\u001b[1;33m(\u001b[0m\u001b[0mpy_str\u001b[0m\u001b[1;33m(\u001b[0m\u001b[0m_LIB\u001b[0m\u001b[1;33m.\u001b[0m\u001b[0mXGBGetLastError\u001b[0m\u001b[1;33m(\u001b[0m\u001b[1;33m)\u001b[0m\u001b[1;33m)\u001b[0m\u001b[1;33m)\u001b[0m\u001b[1;33m\u001b[0m\u001b[1;33m\u001b[0m\u001b[0m\n\u001b[0m\u001b[0;32m    219\u001b[0m \u001b[1;33m\u001b[0m\u001b[0m\n\u001b[0;32m    220\u001b[0m \u001b[1;33m\u001b[0m\u001b[0m\n",
      "\u001b[1;31mXGBoostError\u001b[0m: [14:12:51] d:\\bld\\xgboost-split_1645118015404\\work\\src\\common\\common.h:157: XGBoost version not compiled with GPU support."
     ]
    }
   ],
   "source": [
    "tune_subject = 'Number of Estimators'\n",
    "tune_values = list(range(20, 100, 5))\n",
    "\n",
    "scores = list()\n",
    "print(f'<<MAE Scores for XGBoost Model :: Study Parameter: {tune_subject}>>\\nVal.\\tScore')\n",
    "for value in tune_values:\n",
    "    xgb_params = {\n",
    "        'n_estimators': value,\n",
    "\n",
    "        'objective': 'reg:squarederror',\n",
    "        'nthread': -1,\n",
    "        'tree_method': tree_method_applied,\n",
    "\n",
    "        'seed': RANDOM_SEED,\n",
    "        'verbosity': 1,\n",
    "    }\n",
    "\n",
    "    model_xgb = xgb.XGBRegressor(**xgb_params)\n",
    "    pipeline_xgb = Pipeline(steps=[\n",
    "        ('preprocessor', preprocessor),\n",
    "        ('model', model_xgb)\n",
    "    ])\n",
    "    pipeline_xgb.fit(X_train_subsample, y_train_subsample)\n",
    "\n",
    "    y_pred_subsample_xgb = pipeline_xgb.predict(X_valid_subsample)\n",
    "    score_mae_xgb = mean_absolute_error(np.expm1(y_valid_subsample), np.expm1(y_pred_subsample_xgb))\n",
    "    scores.append((value, score_mae_xgb))\n",
    "    print(f'{value} \\t {round(score_mae_xgb, 4)}')"
   ]
  },
  {
   "cell_type": "code",
   "execution_count": null,
   "id": "caa38c4d",
   "metadata": {},
   "outputs": [],
   "source": [
    "tune_values = list(range(2, 11, 1))\n",
    "\n",
    "scores = list()\n",
    "print(\n",
    "    f'<<MAE Scores for XGBoost Model :: Study Parameter: {tune_subject}>>\\nVal.\\tScore')\n",
    "for value in tune_values:\n",
    "    xgb_params = {\n",
    "        'n_estimators': 35,\n",
    "        'max_depth': value,\n",
    "\n",
    "        'objective': 'reg:squarederror',\n",
    "        'nthread': -1,\n",
    "        'tree_method': tree_method_applied,\n",
    "\n",
    "        'seed': RANDOM_SEED,\n",
    "        'verbosity': 1,\n",
    "    }\n",
    "\n",
    "    model_xgb = xgb.XGBRegressor(**xgb_params)\n",
    "    pipeline_xgb = Pipeline(steps=[\n",
    "        ('preprocessor', preprocessor),\n",
    "        ('model', model_xgb)\n",
    "    ])\n",
    "    pipeline_xgb.fit(X_train_subsample, y_train_subsample)\n",
    "\n",
    "    y_pred_subsample_xgb = pipeline_xgb.predict(X_valid_subsample)\n",
    "    score_mae_xgb = mean_absolute_error(\n",
    "        np.expm1(y_valid_subsample), np.expm1(y_pred_subsample_xgb))\n",
    "    scores.append((value, score_mae_xgb))\n",
    "    print(f'{value} \\t {round(score_mae_xgb, 4)}')"
   ]
  },
  {
   "cell_type": "code",
   "execution_count": null,
   "id": "7ed984b4",
   "metadata": {},
   "outputs": [],
   "source": [
    "tune_subject = 'Learning Rate'\n",
    "tune_values = [round(item, 2) for item in np.arange(0.1, 0.3, 0.01)]\n",
    "\n",
    "scores = list()\n",
    "print(f'<<MAE Scores for XGBoost Model :: Study Parameter: {tune_subject}>>\\nVal.\\tScore')\n",
    "for value in tune_values:\n",
    "    xgb_params = {\n",
    "        'n_estimators': 35,\n",
    "        'max_depth': 4,\n",
    "        'eta': value,\n",
    "\n",
    "        'objective': 'reg:squarederror',\n",
    "        'nthread': -1,\n",
    "        'tree_method': tree_method_applied,\n",
    "\n",
    "        'seed': RANDOM_SEED,\n",
    "        'verbosity': 1,\n",
    "    }\n",
    "\n",
    "    model_xgb = xgb.XGBRegressor(**xgb_params)\n",
    "    pipeline_xgb = Pipeline(steps=[\n",
    "        ('preprocessor', preprocessor),\n",
    "        ('model', model_xgb)\n",
    "    ])\n",
    "    pipeline_xgb.fit(X_train_subsample, y_train_subsample)\n",
    "\n",
    "    y_pred_subsample_xgb = pipeline_xgb.predict(X_valid_subsample)\n",
    "    score_mae_xgb = mean_absolute_error(np.expm1(y_valid_subsample), np.expm1(y_pred_subsample_xgb))\n",
    "    scores.append((value, score_mae_xgb))\n",
    "    print(f'{value} \\t {round(score_mae_xgb, 4)}')"
   ]
  },
  {
   "cell_type": "code",
   "execution_count": null,
   "id": "02cf1aa2",
   "metadata": {},
   "outputs": [],
   "source": [
    "X_train = df_train_full[features_all].copy()\n",
    "y_train = df_train_full[name_of_target_column_transformed].to_numpy()\n",
    "X_test = df_test_full[features_all].copy()\n",
    "\n",
    "\n",
    "gpu_enabled = True\n",
    "tree_method_applied = 'gpu_hist' if gpu_enabled else 'auto'\n",
    "\n",
    "# tuned hyperparameters\n",
    "xgb_params_final = {\n",
    "    'n_estimators': 35,\n",
    "    'max_depth': 4,\n",
    "    'eta': 0.27,\n",
    "\n",
    "    'objective': 'reg:squarederror',\n",
    "    'nthread': -1,\n",
    "    'tree_method': tree_method_applied,\n",
    "\n",
    "    'seed': RANDOM_SEED,\n",
    "    'verbosity': 1,\n",
    "}\n",
    "\n",
    "model_final = xgb.XGBRegressor(**xgb_params_final)\n",
    "pipeline_final = Pipeline(steps=[\n",
    "    ('preprocessor', preprocessor),\n",
    "    ('model', model_final)\n",
    "])\n",
    "pipeline_final.fit(X_train, y_train)\n",
    "\n",
    "print('Training finished :)')"
   ]
  },
  {
   "cell_type": "code",
   "execution_count": null,
   "id": "1707a740",
   "metadata": {},
   "outputs": [],
   "source": [
    "# test the final model on the same subsample validation bunch\n",
    "y_pred_subsample = pipeline_final.predict(X_valid_subsample)\n",
    "score_mae_subsample_final = mean_absolute_error(np.expm1(y_valid_subsample), np.expm1(y_pred_subsample))\n",
    "print('MAE Score:', score_mae_subsample_final)"
   ]
  },
  {
   "cell_type": "code",
   "execution_count": null,
   "id": "bdf4f27b",
   "metadata": {},
   "outputs": [],
   "source": [
    "MODEL_PATH = './scripts/model/'\n",
    "\n",
    "with open(MODEL_PATH+'model.bin', 'wb') as output_file:\n",
    "   pickle.dump((pipeline_final), output_file)\n",
    "   print('Model saved successfully.')\n",
    "output_file.close()"
   ]
  },
  {
   "cell_type": "code",
   "execution_count": null,
   "id": "83c34205",
   "metadata": {},
   "outputs": [],
   "source": []
  }
 ],
 "metadata": {
  "kernelspec": {
   "display_name": "Python 3 (ipykernel)",
   "language": "python",
   "name": "python3"
  },
  "language_info": {
   "codemirror_mode": {
    "name": "ipython",
    "version": 3
   },
   "file_extension": ".py",
   "mimetype": "text/x-python",
   "name": "python",
   "nbconvert_exporter": "python",
   "pygments_lexer": "ipython3",
   "version": "3.9.7"
  }
 },
 "nbformat": 4,
 "nbformat_minor": 5
}
